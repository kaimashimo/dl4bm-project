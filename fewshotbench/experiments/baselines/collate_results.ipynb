{
 "cells": [
  {
   "cell_type": "code",
   "execution_count": 1,
   "metadata": {},
   "outputs": [],
   "source": [
    "from pathlib import Path\n",
    "from itertools import product\n",
    "import pandas as pd"
   ]
  },
  {
   "cell_type": "code",
   "execution_count": 17,
   "metadata": {},
   "outputs": [],
   "source": [
    "methods = ['maml', 'protonet', 'matchingnet', 'baseline', 'baseline_pp']\n",
    "datasets = ['tabula_muris', 'swissprot']\n",
    "n_shots = [1, 5, 10]\n",
    "n_ways = [5, 20]\n",
    "\n",
    "results = []"
   ]
  },
  {
   "cell_type": "code",
   "execution_count": 18,
   "metadata": {},
   "outputs": [],
   "source": [
    "# Write a function to extract the train, test and val accuracies from the log file\n",
    "\"\"\" E.g. Time: 20231210-124517, Setting: swissprot-train-FCNet-protonet 5shot 5way, Acc: 89.03% +- 0.68%, Model: checkpoints/protonet_swissprot_5_5/swissprot/protonet_FCNet/20231210_124157/best_model.tar \n",
    "Time: 20231210-124602, Setting: swissprot-val-FCNet-protonet 5shot 5way, Acc: 70.02% +- 0.82%, Model: checkpoints/protonet_swissprot_5_5/swissprot/protonet_FCNet/20231210_124157/best_model.tar \n",
    "Time: 20231210-124640, Setting: swissprot-test-FCNet-protonet 5shot 5way, Acc: 62.69% +- 0.60%, Model: checkpoints/protonet_swissprot_5_5/swissprot/protonet_FCNet/20231210_124157/best_model.tar \"\"\"\n",
    "\n",
    "def extract_accs(results_file):\n",
    "    with open(results_file, 'r') as f:\n",
    "        lines = f.readlines()\n",
    "    train, train_unc = extract_accs_from_line(lines[0])\n",
    "    val, val_unc = extract_accs_from_line(lines[1])\n",
    "    test, test_unc = extract_accs_from_line(lines[2])\n",
    "    return train, train_unc, val, val_unc, test, test_unc\n",
    "\n",
    "def extract_accs_from_line(line):\n",
    "    acc = float(line.split(' ')[-6].split('%')[0])\n",
    "    acc_unc = float(line.split(' ')[-4].split('%')[0])\n",
    "    return acc, acc_unc\n",
    "\n",
    "assert extract_accs('../../checkpoints/protonet_swissprot_5_5/results.txt') == (89.03, 0.68, 70.02, 0.82, 62.69, 0.6)\n"
   ]
  },
  {
   "cell_type": "code",
   "execution_count": 20,
   "metadata": {},
   "outputs": [],
   "source": [
    "\n",
    "\n",
    "\n",
    "root = Path('../../checkpoints/')\n",
    "for method, dataset, n_shot, n_way in product(methods, datasets, n_shots, n_ways):\n",
    "    path = root.joinpath(f'{method}_{dataset}_{n_shot}_{n_way}')\n",
    "    try:\n",
    "        train, train_unc, val, val_unc, test, test_unc = extract_accs(path.joinpath('results.txt'))\n",
    "        results.append({\n",
    "            'method': method, \n",
    "            'dataset': dataset, \n",
    "            'n_shots': n_shot, \n",
    "            'n_ways': n_way, \n",
    "            'train': train, \n",
    "            'train_unc': train_unc, \n",
    "            'val': val, \n",
    "            'val_unc': val_unc, \n",
    "            'test': test, \n",
    "            'test_unc': test_unc\n",
    "        })\n",
    "    except:\n",
    "        results.append({\n",
    "            'method': method, \n",
    "            'dataset': dataset, \n",
    "            'n_shots': n_shot, \n",
    "            'n_ways': n_way, \n",
    "        })"
   ]
  },
  {
   "cell_type": "code",
   "execution_count": 1,
   "metadata": {},
   "outputs": [
    {
     "ename": "NameError",
     "evalue": "name 'pd' is not defined",
     "output_type": "error",
     "traceback": [
      "\u001b[0;31m---------------------------------------------------------------------------\u001b[0m",
      "\u001b[0;31mNameError\u001b[0m                                 Traceback (most recent call last)",
      "\u001b[1;32m/Users/pierrelardet/Documents/University_Academics/Year_3/Deep_Learning_in_Biomedicine/dl4bm-project/fewshotbench/experiments/baselines/collate_results.ipynb Cell 5\u001b[0m line \u001b[0;36m1\n\u001b[0;32m----> <a href='vscode-notebook-cell:/Users/pierrelardet/Documents/University_Academics/Year_3/Deep_Learning_in_Biomedicine/dl4bm-project/fewshotbench/experiments/baselines/collate_results.ipynb#W5sZmlsZQ%3D%3D?line=0'>1</a>\u001b[0m df \u001b[39m=\u001b[39m pd\u001b[39m.\u001b[39mDataFrame(results)\n\u001b[1;32m      <a href='vscode-notebook-cell:/Users/pierrelardet/Documents/University_Academics/Year_3/Deep_Learning_in_Biomedicine/dl4bm-project/fewshotbench/experiments/baselines/collate_results.ipynb#W5sZmlsZQ%3D%3D?line=1'>2</a>\u001b[0m df\u001b[39m.\u001b[39mto_csv(\u001b[39m'\u001b[39m\u001b[39mbaselines.csv\u001b[39m\u001b[39m'\u001b[39m)\n\u001b[1;32m      <a href='vscode-notebook-cell:/Users/pierrelardet/Documents/University_Academics/Year_3/Deep_Learning_in_Biomedicine/dl4bm-project/fewshotbench/experiments/baselines/collate_results.ipynb#W5sZmlsZQ%3D%3D?line=2'>3</a>\u001b[0m df\n",
      "\u001b[0;31mNameError\u001b[0m: name 'pd' is not defined"
     ]
    }
   ],
   "source": [
    "df = pd.DataFrame(results)\n",
    "df.to_csv('baselines.csv')\n",
    "df"
   ]
  }
 ],
 "metadata": {
  "kernelspec": {
   "display_name": "fewshotbench",
   "language": "python",
   "name": "python3"
  },
  "language_info": {
   "codemirror_mode": {
    "name": "ipython",
    "version": 3
   },
   "file_extension": ".py",
   "mimetype": "text/x-python",
   "name": "python",
   "nbconvert_exporter": "python",
   "pygments_lexer": "ipython3",
   "version": "3.10.11"
  }
 },
 "nbformat": 4,
 "nbformat_minor": 2
}
